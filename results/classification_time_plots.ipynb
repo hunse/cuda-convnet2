{
 "metadata": {
  "name": "",
  "signature": "sha256:4db8e08f114d131c0f4a011c6eacb35259d8766227d17862d3b429796baf2558"
 },
 "nbformat": 3,
 "nbformat_minor": 0,
 "worksheets": [
  {
   "cells": [
    {
     "cell_type": "code",
     "collapsed": false,
     "input": [
      "import sys\n",
      "sys.path.insert(0, '..')"
     ],
     "language": "python",
     "metadata": {},
     "outputs": []
    },
    {
     "cell_type": "code",
     "collapsed": false,
     "input": [
      "import os\n",
      "import matplotlib.pyplot as plt\n",
      "%matplotlib inline\n",
      "import seaborn as sns\n",
      "import numpy as np\n",
      "from run_nengo import error_lims\n",
      "\n",
      "sns.set_style('white')"
     ],
     "language": "python",
     "metadata": {},
     "outputs": []
    },
    {
     "cell_type": "code",
     "collapsed": false,
     "input": [
      "def print_results():\n",
      "    for ct_start, ct_ends, errors in results_cifar:\n",
      "        print(ct_start, errors.min())\n",
      "        ct_end = 0.06\n",
      "        print(ct_start, ct_end, errors[np.argmin(np.abs(ct_ends - ct_end))])\n",
      "        print(ct_start, ct_ends[-1], errors[-1])"
     ],
     "language": "python",
     "metadata": {},
     "outputs": []
    },
    {
     "cell_type": "code",
     "collapsed": false,
     "input": [
      "if 0:\n",
      "    loadpath = '../checkpoints/cifar10-lif-1628-80ms_pt-0ms_alpha.npz'\n",
      "    dstart = 0.01\n",
      "    dend = 0.002\n",
      "elif 0:\n",
      "    loadpath = '../checkpoints/cifar10-lif-1628-200ms_pt.npz'\n",
      "    dstart = 0.02\n",
      "    dend = 0.005\n",
      "else:\n",
      "    loadpath = '../checkpoints/cifar10-lifalpharc-1556-150ms_pt-3ms_alpha.npz'\n",
      "    dstart = 0.02\n",
      "    dend = 0.005\n",
      "    \n",
      "loadname = os.path.splitext(os.path.split(loadpath)[1])[0]\n",
      "objs = np.load(loadpath)\n",
      "dt, pt, labels, t, y = [objs[k] for k in ['dt', 'pt', 'labels', 't', 'y']]\n",
      "ct_starts = dstart * np.arange(int(pt / dstart))[:6]"
     ],
     "language": "python",
     "metadata": {},
     "outputs": []
    },
    {
     "cell_type": "code",
     "collapsed": false,
     "input": [
      "results_cifar = []\n",
      "for ct_start in ct_starts:\n",
      "    ct_ends = dend * np.arange(ct_start / dend + 1, pt / dend + 1)\n",
      "    errors = np.zeros(len(ct_ends))\n",
      "    for i, ct_end in enumerate(ct_ends):\n",
      "        e, _, _ = error_lims(\n",
      "            dt, pt, labels, t, y, ct_start=ct_start/pt, ct_end=ct_end/pt)\n",
      "        errors[i] = e.mean()\n",
      "    results_cifar.append((ct_start, ct_ends, errors))"
     ],
     "language": "python",
     "metadata": {},
     "outputs": []
    },
    {
     "cell_type": "code",
     "collapsed": false,
     "input": [
      "plt.figure(figsize=(5,4))\n",
      "ax = plt.gca()\n",
      "for ct_start, ct_ends, errors in results_cifar:\n",
      "    plt.semilogy(ct_ends * 1000, errors * 100, label='%d' % (ct_start*1000,))\n",
      "\n",
      "error_min = min(*[np.min(errors) for _, _, errors in results_cifar])\n",
      "plt.xlim([0., pt*1000])\n",
      "plt.ylim([80*error_min, 100])\n",
      "\n",
      "yticks = [10, 20, 50, 100]\n",
      "ax.set_yticks(yticks)\n",
      "ax.set_yticklabels([str(tick) for tick in yticks])\n",
      "\n",
      "plt.xlabel('classification time [ms]')\n",
      "plt.ylabel('error [%]')\n",
      "plt.legend(loc=3, title='start time [ms]')\n",
      "\n",
      "sns.set(context='paper', style='ticks', palette='dark')\n",
      "sns.despine()\n",
      "\n",
      "plt.savefig(loadname + '-classplot.pdf')"
     ],
     "language": "python",
     "metadata": {},
     "outputs": []
    },
    {
     "cell_type": "code",
     "collapsed": false,
     "input": [
      "for ct_start, ct_ends, errors in results_cifar:\n",
      "    print(ct_start, errors.min())\n",
      "    ct_end = 0.06\n",
      "    print(ct_start, ct_end, errors[np.argmin(np.abs(ct_ends - ct_end))])\n",
      "    print(ct_start, ct_ends[-1], errors[-1])"
     ],
     "language": "python",
     "metadata": {},
     "outputs": []
    },
    {
     "cell_type": "code",
     "collapsed": false,
     "input": [
      "#loadpath = '../checkpoints/mnist-lif-0097-200ms_pt-5ms_alpha.npz'\n",
      "loadpath = '../checkpoints/mnist-lif-0097-100ms_pt-2ms_alpha.npz'\n",
      "#loadpath = '../checkpoints/mnist-lif-0097-60ms_pt-0ms_alpha.npz'\n",
      "loadname = os.path.splitext(os.path.split(loadpath)[1])[0]\n",
      "objs = np.load(loadpath)\n",
      "dt, pt, labels, t, y = [objs[k] for k in ['dt', 'pt', 'labels', 't', 'y']]"
     ],
     "language": "python",
     "metadata": {},
     "outputs": []
    },
    {
     "cell_type": "code",
     "collapsed": false,
     "input": [
      "# dstart = 0.005\n",
      "dstart = 0.01\n",
      "#dstart = 0.02\n",
      "dend = 0.002\n",
      "# ct_starts = dstart * np.arange(int(pt / dstart))\n",
      "# ct_starts = dstart * np.arange(int(0.8 * pt / dstart))\n",
      "ct_starts = dstart * np.arange(int(pt / dstart))[:7]\n",
      "\n",
      "results_mnist = []\n",
      "for ct_start in ct_starts:\n",
      "    ct_ends = dend * np.arange(ct_start / dend + 1, pt / dend + 1)\n",
      "    errors = np.zeros(len(ct_ends))\n",
      "    for i, ct_end in enumerate(ct_ends):\n",
      "        e, _, _ = error_lims(\n",
      "            dt, pt, labels, t, y, ct_start=ct_start/pt, ct_end=ct_end/pt)\n",
      "        errors[i] = e.mean()\n",
      "    results_mnist.append((ct_start, ct_ends, errors))"
     ],
     "language": "python",
     "metadata": {},
     "outputs": []
    },
    {
     "cell_type": "code",
     "collapsed": false,
     "input": [
      "plt.figure(figsize=(5,4))\n",
      "ax = plt.gca()\n",
      "for ct_start, ct_ends, errors in results_mnist:\n",
      "    plt.semilogy(ct_ends * 1000, errors * 100, label='%d' % (ct_start*1000,))\n",
      "\n",
      "error_min = min(*[np.min(errors) for _, _, errors in results_mnist])\n",
      "plt.xlim([0., pt*1000])\n",
      "plt.ylim([80*error_min, 100])\n",
      "\n",
      "yticks = [1, 2, 5, 10, 20, 50, 100]\n",
      "ax.set_yticks(yticks)\n",
      "ax.set_yticklabels([str(tick) for tick in yticks])\n",
      "\n",
      "plt.xlabel('classification time [ms]')\n",
      "plt.ylabel('error [%]')\n",
      "plt.legend(loc=3, title='start time [ms]')\n",
      "\n",
      "sns.set(context='paper', style='ticks', palette='dark')\n",
      "sns.despine()\n",
      "\n",
      "plt.savefig(loadname + '-classplot.pdf')"
     ],
     "language": "python",
     "metadata": {},
     "outputs": []
    },
    {
     "cell_type": "code",
     "collapsed": false,
     "input": [
      "for ct_start, ct_ends, errors in results_mnist:\n",
      "    print(ct_start, errors.min())\n",
      "    ct_end = 0.06\n",
      "    print(ct_start, ct_end, errors[np.argmin(np.abs(ct_ends - ct_end))])\n",
      "    print(ct_start, ct_ends[-1], errors[-1])"
     ],
     "language": "python",
     "metadata": {},
     "outputs": []
    },
    {
     "cell_type": "code",
     "collapsed": false,
     "input": [
      "if 1:\n",
      "    loadpath = '../checkpoints/ilsvrc2012-lif-48-80ms_pt-0ms_alpha.npz'\n",
      "    dstart = 0.01\n",
      "    dend = 0.002\n",
      "    ct_starts = dstart * np.arange(int(pt / dstart))[:7]\n",
      "else:\n",
      "    loadpath = '../checkpoints/ilsvrc2012-lif-48-200ms_pt-3ms_alpha.npz'\n",
      "    dstart = 0.02\n",
      "    dend = 0.005\n",
      "    ct_starts = dstart * np.arange(int(pt / dstart))\n",
      "    \n",
      "loadname = os.path.splitext(os.path.split(loadpath)[1])[0]\n",
      "objs = np.load(loadpath)\n",
      "dt, pt, labels, t, y = [objs[k] for k in ['dt', 'pt', 'labels', 't', 'y']]"
     ],
     "language": "python",
     "metadata": {},
     "outputs": []
    },
    {
     "cell_type": "code",
     "collapsed": false,
     "input": [
      "results_imagenet = []\n",
      "for ct_start in ct_starts:\n",
      "    ct_ends = dend * np.arange(ct_start / dend + 1, pt / dend + 1)\n",
      "    errors1 = np.zeros(len(ct_ends))\n",
      "    errors5 = np.zeros(len(ct_ends))\n",
      "    for i, ct_end in enumerate(ct_ends):\n",
      "        e1, e5, _ = error_lims(\n",
      "            dt, pt, labels, t, y, ct_start=ct_start/pt, ct_end=ct_end/pt)\n",
      "        errors1[i] = e1.mean()\n",
      "        errors5[i] = e5.mean()\n",
      "    results_imagenet.append((ct_start, ct_ends, errors1, errors5))"
     ],
     "language": "python",
     "metadata": {},
     "outputs": []
    },
    {
     "cell_type": "code",
     "collapsed": false,
     "input": [
      "plt.figure(figsize=(5,4))\n",
      "ax = plt.gca()\n",
      "for ct_start, ct_ends, _, errors in results_imagenet:\n",
      "    plt.semilogy(ct_ends * 1000, errors * 100, label='%d' % (ct_start*1000,))\n",
      "\n",
      "error_min = min(*[np.min(errors) for _, _, _, errors in results_imagenet])\n",
      "plt.xlim([0., pt*1000])\n",
      "plt.ylim([80*error_min, 100])\n",
      "\n",
      "yticks = [20, 50, 100]\n",
      "ax.set_yticks(yticks)\n",
      "ax.set_yticklabels([str(tick) for tick in yticks])\n",
      "\n",
      "plt.xlabel('classification time [ms]')\n",
      "plt.ylabel('error [%]')\n",
      "plt.legend(loc=3, title='start time [ms]')\n",
      "\n",
      "sns.set(context='paper', style='ticks', palette='dark')\n",
      "sns.despine()\n",
      "\n",
      "plt.savefig(loadname + '-classplot.pdf')"
     ],
     "language": "python",
     "metadata": {},
     "outputs": []
    },
    {
     "cell_type": "code",
     "collapsed": false,
     "input": [
      "for ct_start, ct_ends, _, errors in results_imagenet:\n",
      "    print(ct_start, errors.min())\n",
      "    ct_end = 0.06\n",
      "    print(ct_start, ct_end, errors[np.argmin(np.abs(ct_ends - ct_end))])\n",
      "    print(ct_start, ct_ends[-1], errors[-1])"
     ],
     "language": "python",
     "metadata": {},
     "outputs": []
    },
    {
     "cell_type": "code",
     "collapsed": false,
     "input": [],
     "language": "python",
     "metadata": {},
     "outputs": []
    }
   ],
   "metadata": {}
  }
 ]
}